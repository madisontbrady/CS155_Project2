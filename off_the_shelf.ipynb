{
 "cells": [
  {
   "cell_type": "code",
   "execution_count": 1,
   "metadata": {},
   "outputs": [],
   "source": [
    "# Import necessary packages.\n",
    "import numpy as np\n",
    "import matplotlib.pyplot as plt\n",
    "import pandas as pd"
   ]
  },
  {
   "cell_type": "code",
   "execution_count": 56,
   "metadata": {},
   "outputs": [],
   "source": [
    "# Load everything into dataframes\n",
    "data   = pd.read_csv('./data/data.txt', sep='|', names=cols, encoding='latin-1')\n",
    "train  = pd.read_csv('./data/train.txt', sep='|', names=cols, encoding='latin-1')\n",
    "test   = pd.read_csv('./data/test.txt', sep='|', names=cols, encoding='latin-1')"
   ]
  },
  {
   "cell_type": "code",
   "execution_count": null,
   "metadata": {},
   "outputs": [],
   "source": [
    "cols = ['user', 'movie', 'raw_ratings']\n",
    "train_data = pd.read_csv('./data/train.txt', sep='|', names=cols, encoding='latin-1')\n",
    "test_data = Dataset.load_from_df(test_data[['user', 'movie', 'raw_ratings']], reader)"
   ]
  },
  {
   "cell_type": "code",
   "execution_count": 2,
   "metadata": {},
   "outputs": [],
   "source": [
    "# Use off-the-shelf Surprise SVD\n",
    "from surprise import SVD, accuracy\n",
    "from surprise import Dataset\n",
    "from surprise.model_selection import cross_validate\n",
    "from surprise.model_selection import train_test_split\n",
    "from surprise import Reader, Dataset"
   ]
  },
  {
   "cell_type": "code",
   "execution_count": 3,
   "metadata": {},
   "outputs": [],
   "source": [
    "# Use default dataset from scikit\n",
    "default_data = Dataset.load_builtin('ml-100k')\n",
    "\n",
    "# Split into training and testing sets\n",
    "train_data, test_data = train_test_split(default_data, test_size=0.1)"
   ]
  },
  {
   "cell_type": "code",
   "execution_count": 76,
   "metadata": {},
   "outputs": [
    {
     "ename": "AttributeError",
     "evalue": "'Trainset' object has no attribute 'build_full_trainset'",
     "output_type": "error",
     "traceback": [
      "\u001b[0;31m---------------------------------------------------------------------------\u001b[0m",
      "\u001b[0;31mAttributeError\u001b[0m                            Traceback (most recent call last)",
      "\u001b[0;32m<ipython-input-76-800a7ec7b8e2>\u001b[0m in \u001b[0;36m<module>\u001b[0;34m\u001b[0m\n\u001b[1;32m      1\u001b[0m \u001b[0;31m# Use custom dataset\u001b[0m\u001b[0;34m\u001b[0m\u001b[0;34m\u001b[0m\u001b[0;34m\u001b[0m\u001b[0m\n\u001b[1;32m      2\u001b[0m \u001b[0mreader\u001b[0m \u001b[0;34m=\u001b[0m \u001b[0mReader\u001b[0m\u001b[0;34m(\u001b[0m\u001b[0;34m)\u001b[0m\u001b[0;34m\u001b[0m\u001b[0;34m\u001b[0m\u001b[0m\n\u001b[0;32m----> 3\u001b[0;31m \u001b[0mtrain_data\u001b[0m \u001b[0;34m=\u001b[0m \u001b[0mtrain_data\u001b[0m\u001b[0;34m.\u001b[0m\u001b[0mbuild_full_trainset\u001b[0m\u001b[0;34m(\u001b[0m\u001b[0;34m)\u001b[0m\u001b[0;34m\u001b[0m\u001b[0;34m\u001b[0m\u001b[0m\n\u001b[0m\u001b[1;32m      4\u001b[0m \u001b[0mtest_data\u001b[0m \u001b[0;34m=\u001b[0m \u001b[0mtest_data\u001b[0m\u001b[0;34m.\u001b[0m\u001b[0mbuild_full_trainset\u001b[0m\u001b[0;34m(\u001b[0m\u001b[0;34m)\u001b[0m\u001b[0;34m\u001b[0m\u001b[0;34m\u001b[0m\u001b[0m\n",
      "\u001b[0;31mAttributeError\u001b[0m: 'Trainset' object has no attribute 'build_full_trainset'"
     ]
    }
   ],
   "source": [
    "# Use custom dataset\n",
    "reader = Reader()\n",
    "train_data = train_data.build_full_trainset()\n",
    "test_data = test_data.build_full_trainset()"
   ]
  },
  {
   "cell_type": "code",
   "execution_count": 5,
   "metadata": {},
   "outputs": [
    {
     "name": "stdout",
     "output_type": "stream",
     "text": [
      "RMSE: 0.9375\n"
     ]
    },
    {
     "data": {
      "text/plain": [
       "0.9375037886235807"
      ]
     },
     "execution_count": 5,
     "metadata": {},
     "output_type": "execute_result"
    }
   ],
   "source": [
    "# Train SVD\n",
    "svd = SVD()\n",
    "svd.fit(train_data)\n",
    "\n",
    "# Generate predictions on test set\n",
    "predictions = svd.test(test_data)\n",
    "\n",
    "# Compute RMSE\n",
    "accuracy.rmse(predictions)"
   ]
  },
  {
   "cell_type": "code",
   "execution_count": 6,
   "metadata": {},
   "outputs": [],
   "source": [
    "# Create visualization\n",
    "U = svd.pu\n",
    "V = svd.qi"
   ]
  },
  {
   "cell_type": "code",
   "execution_count": 11,
   "metadata": {},
   "outputs": [],
   "source": [
    "# Mean-Centering\n",
    "for i in range(len(U)):\n",
    "    mean = np.mean(U[i])\n",
    "    U[i] = [(U[i][j] - mean) for j in range(len(U[i]))]\n",
    "for i in range(len(V)):\n",
    "    mean = np.mean(V[i])\n",
    "    V[i] = [(V[i][j] - mean) for j in range(len(V[i]))]"
   ]
  },
  {
   "cell_type": "code",
   "execution_count": 15,
   "metadata": {},
   "outputs": [],
   "source": [
    "# Compute SVD of V\n",
    "A, S, B = np.linalg.svd(V)\n",
    "U_tilde = np.dot(np.transpose(A[:, 1:2]), V)\n",
    "\n",
    "A, S, B = np.linalg.svd(U)\n",
    "V_tilde = np.dot(np.transpose(A[:, 1:2]), U)"
   ]
  },
  {
   "cell_type": "code",
   "execution_count": null,
   "metadata": {},
   "outputs": [],
   "source": []
  }
 ],
 "metadata": {
  "kernelspec": {
   "display_name": "Python 3",
   "language": "python",
   "name": "python3"
  },
  "language_info": {
   "codemirror_mode": {
    "name": "ipython",
    "version": 3
   },
   "file_extension": ".py",
   "mimetype": "text/x-python",
   "name": "python",
   "nbconvert_exporter": "python",
   "pygments_lexer": "ipython3",
   "version": "3.7.4"
  }
 },
 "nbformat": 4,
 "nbformat_minor": 2
}
